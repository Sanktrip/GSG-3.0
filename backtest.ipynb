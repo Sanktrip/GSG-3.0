{
 "cells": [
  {
   "cell_type": "code",
   "execution_count": 81,
   "id": "1ed61ee8-ce77-4f7c-8738-5823f71df41b",
   "metadata": {},
   "outputs": [],
   "source": [
    "from nautilus_trader.config import BacktestVenueConfig\n",
    "from typing import Optional\n",
    "from nautilus_trader.core.message import Event\n",
    "from nautilus_trader.model.data import QuoteTick\n",
    "from nautilus_trader.model.enums import PriceType\n",
    "from nautilus_trader.model.enums import PositionSide\n",
    "from nautilus_trader.model.enums import OrderSide\n",
    "from nautilus_trader.model.events import PositionOpened\n",
    "from nautilus_trader.model.identifiers import InstrumentId\n",
    "from nautilus_trader.model.objects import Quantity\n",
    "from nautilus_trader.model.position import Position\n",
    "from nautilus_trader.trading.strategy import Strategy, StrategyConfig\n",
    "from nautilus_trader.config import BacktestDataConfig\n",
    "from nautilus_trader.model.data import QuoteTick\n",
    "from nautilus_trader.config import BacktestEngineConfig\n",
    "from nautilus_trader.backtest.engine import BacktestEngine\n",
    "from nautilus_trader.config import ImportableStrategyConfig\n",
    "from nautilus_trader.config import LoggingConfig\n",
    "from nautilus_trader.model.objects import Money\n",
    "from nautilus_trader.model.currencies import BTC\n",
    "from nautilus_trader.model.currencies import USDT\n",
    "import os\n",
    "from nautilus_trader.persistence.loaders import CSVTickDataLoader\n",
    "from nautilus_trader.persistence.wranglers import BarDataWrangler\n",
    "from nautilus_trader.test_kit.providers import TestInstrumentProvider\n",
    "from nautilus_trader.model.data import BarType\n",
    "from nautilus_trader.model.data import BarSpecification\n",
    "from nautilus_trader.model.enums import PriceType\n",
    "from nautilus_trader.model.enums import BarAggregation\n",
    "from nautilus_trader.model.enums import AggregationSource\n",
    "from nautilus_trader.model.data import Bar\n",
    "from nautilus_trader.model.enums import AccountType\n",
    "from nautilus_trader.model.enums import OmsType\n",
    "from nautilus_trader.model.identifiers import Venue"
   ]
  },
  {
   "cell_type": "code",
   "execution_count": 53,
   "id": "ccf383b2-7593-47ea-9337-82143ed03822",
   "metadata": {},
   "outputs": [],
   "source": [
    "btcusdt_instrument = TestInstrumentProvider.btcusdt_binance()"
   ]
  },
  {
   "cell_type": "code",
   "execution_count": 55,
   "id": "de0454c1-4cf2-42ac-a7dd-f70c961048f1",
   "metadata": {},
   "outputs": [],
   "source": [
    "cwd = os.getcwd()\n",
    "data_path = os.path.join(cwd, \"formatted_data/BTCUSDT/1m/1.1.2021-1.1.2022.csv\")\n",
    "df = CSVTickDataLoader.load(file_path=data_path)"
   ]
  },
  {
   "cell_type": "code",
   "execution_count": 73,
   "id": "1a00eb7a-d587-4b40-96fc-0a8b0bb8c864",
   "metadata": {},
   "outputs": [],
   "source": [
    "bar_spec = BarSpecification(1,BarAggregation.MINUTE, PriceType.LAST)\n",
    "bar_type=BarType(btcusdt_instrument.id, bar_spec)"
   ]
  },
  {
   "cell_type": "code",
   "execution_count": 74,
   "id": "52f1a2dc-37aa-4cb5-ab77-61a249b9e647",
   "metadata": {},
   "outputs": [],
   "source": [
    "wrangler = BarDataWrangler(\n",
    "    bar_type=bar_type, \n",
    "    instrument=btcusdt_instrument,\n",
    "    )\n",
    "ticks = wrangler.process(df)"
   ]
  },
  {
   "cell_type": "code",
   "execution_count": 77,
   "id": "9d314740-47c9-4d07-a892-f753e5fc709d",
   "metadata": {},
   "outputs": [],
   "source": [
    "engine_config = BacktestEngineConfig(\n",
    "        trader_id=\"BACKTESTER-001\",\n",
    "        logging=LoggingConfig(\n",
    "            log_level=\"ERROR\",\n",
    "            log_colors=True,\n",
    "        ),\n",
    "    )"
   ]
  },
  {
   "cell_type": "code",
   "execution_count": 78,
   "id": "607ca52d-efea-4262-9b26-16fc30e72aea",
   "metadata": {},
   "outputs": [
    {
     "name": "stdout",
     "output_type": "stream",
     "text": [
      "\n",
      "Failed to set global default dispatcher because of error: a global default trace dispatcher has already been set\n"
     ]
    }
   ],
   "source": [
    "engine = BacktestEngine(config=engine_config)"
   ]
  },
  {
   "cell_type": "code",
   "execution_count": 83,
   "id": "aee24489-9495-42b8-8306-acbda85525d7",
   "metadata": {},
   "outputs": [],
   "source": [
    "BINANCE = Venue(\"BINANCE\")\n",
    "engine.add_venue(\n",
    "    venue=BINANCE,\n",
    "    oms_type=OmsType.NETTING,\n",
    "    account_type=AccountType.CASH,\n",
    "    base_currency=None,\n",
    "    starting_balances=[Money(1_000_000.0, USDT), Money(10.0, BTC)],\n",
    "    \n",
    ")"
   ]
  },
  {
   "cell_type": "code",
   "execution_count": 84,
   "id": "4ac59c80-1239-457a-8ae9-aff83c9b1689",
   "metadata": {},
   "outputs": [],
   "source": [
    "engine.add_instrument(btcusdt_instrument)"
   ]
  },
  {
   "cell_type": "code",
   "execution_count": 85,
   "id": "3f066ca4-ade5-4d62-ab02-0fd8b4c1d84f",
   "metadata": {},
   "outputs": [],
   "source": [
    "engine.add_data(ticks)"
   ]
  },
  {
   "cell_type": "code",
   "execution_count": 86,
   "id": "c9513497-f2c9-4a25-8476-f6e9eb10116c",
   "metadata": {},
   "outputs": [],
   "source": [
    "class VWAPConfig(StrategyConfig):\n",
    "    InstrumentId: str\n",
    "    fast_period: int = 12\n",
    "    slow_period: int = 26\n",
    "    trade_size: int = 100\n",
    "    entry_threshold: float = 0.0001"
   ]
  },
  {
   "cell_type": "code",
   "execution_count": null,
   "id": "0e7ac108-e56f-45e5-ad17-2fa8206e22fd",
   "metadata": {},
   "outputs": [],
   "source": []
  }
 ],
 "metadata": {
  "kernelspec": {
   "display_name": "myenv",
   "language": "python",
   "name": "myenv"
  },
  "language_info": {
   "codemirror_mode": {
    "name": "ipython",
    "version": 3
   },
   "file_extension": ".py",
   "mimetype": "text/x-python",
   "name": "python",
   "nbconvert_exporter": "python",
   "pygments_lexer": "ipython3",
   "version": "3.10.12"
  }
 },
 "nbformat": 4,
 "nbformat_minor": 5
}
