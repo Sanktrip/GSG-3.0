{
 "cells": [
  {
   "cell_type": "code",
   "execution_count": 7,
   "id": "1ed61ee8-ce77-4f7c-8738-5823f71df41b",
   "metadata": {},
   "outputs": [],
   "source": [
    "import pandas as pd\n",
    "import os\n",
    "import datetime\n",
    "from backtesting import Backtest, Strategy\n"
   ]
  },
  {
   "cell_type": "code",
   "execution_count": 84,
   "id": "3adc49f3-a550-4cc0-98ac-4ad975f744a7",
   "metadata": {},
   "outputs": [],
   "source": [
    "def VWAP(array):\n",
    "    sum = 0\n",
    "    totalVolume = 0\n",
    "    for element in array: \n",
    "        volume = element[5]\n",
    "        totalVolume += volume\n",
    "        sum += (volume / 4) * (element[1] + element[2] + element[3] + element[4])\n",
    "    return sum / totalVolume"
   ]
  },
  {
   "cell_type": "code",
   "execution_count": 144,
   "id": "1c2026fe-2ad6-4657-85c2-4630ac3a7637",
   "metadata": {},
   "outputs": [],
   "source": [
    "class VWAPSTRAT(Strategy):\n",
    "    vwap = 0\n",
    "    def init(self):\n",
    "        self.vwap = VWAP(self.data)\n",
    "    def next(self):\n",
    "        close = self.data.Close[-1]\n",
    "        volume = self.data.Volume[-1]\n",
    "        open = self.data.Open[-1]\n",
    "        high = self.data.High[-1]\n",
    "        low = self.data.Low[-1]\n",
    "        curr_vwap = float(volume/4) * (open + high + low + close)\n",
    "        if self.vwap < curr_vwap:\n",
    "            self.buy()\n",
    "        elif self.vwap > curr_vwap:\n",
    "            self.sell()\n",
    "            \n",
    "        "
   ]
  },
  {
   "cell_type": "code",
   "execution_count": 145,
   "id": "8dad86dc-2277-4a49-a5ff-f31b96041896",
   "metadata": {},
   "outputs": [],
   "source": [
    "def run_backtest(data):\n",
    "    test = Backtest(data, VWAPSTRAT, cash=1000000)\n",
    "    test.run()\n"
   ]
  },
  {
   "cell_type": "code",
   "execution_count": 146,
   "id": "1c491b81-3692-43cd-bb44-afe59eeb298d",
   "metadata": {},
   "outputs": [
    {
     "name": "stdout",
     "output_type": "stream",
     "text": [
      "<Data i=524594 (2021-12-31 23:59:00) Open=46186.33, High=46233.1, Low=46179.63, Close=46216.93, Volume=23.12242>\n"
     ]
    },
    {
     "ename": "KeyError",
     "evalue": "0",
     "output_type": "error",
     "traceback": [
      "\u001b[0;31m---------------------------------------------------------------------------\u001b[0m",
      "\u001b[0;31mKeyError\u001b[0m                                  Traceback (most recent call last)",
      "Cell \u001b[0;32mIn[146], line 5\u001b[0m\n\u001b[1;32m      3\u001b[0m data[\u001b[38;5;124m'\u001b[39m\u001b[38;5;124mDate\u001b[39m\u001b[38;5;124m'\u001b[39m] \u001b[38;5;241m=\u001b[39m pd\u001b[38;5;241m.\u001b[39mto_datetime(data[\u001b[38;5;124m'\u001b[39m\u001b[38;5;124mDate\u001b[39m\u001b[38;5;124m'\u001b[39m])\n\u001b[1;32m      4\u001b[0m data\u001b[38;5;241m.\u001b[39mset_index(\u001b[38;5;124m'\u001b[39m\u001b[38;5;124mDate\u001b[39m\u001b[38;5;124m'\u001b[39m, inplace\u001b[38;5;241m=\u001b[39m\u001b[38;5;28;01mTrue\u001b[39;00m)\n\u001b[0;32m----> 5\u001b[0m \u001b[43mrun_backtest\u001b[49m\u001b[43m(\u001b[49m\u001b[43mdata\u001b[49m\u001b[43m)\u001b[49m\n",
      "Cell \u001b[0;32mIn[145], line 3\u001b[0m, in \u001b[0;36mrun_backtest\u001b[0;34m(data)\u001b[0m\n\u001b[1;32m      1\u001b[0m \u001b[38;5;28;01mdef\u001b[39;00m \u001b[38;5;21mrun_backtest\u001b[39m(data):\n\u001b[1;32m      2\u001b[0m     test \u001b[38;5;241m=\u001b[39m Backtest(data, VWAPSTRAT, cash\u001b[38;5;241m=\u001b[39m\u001b[38;5;241m1000000\u001b[39m)\n\u001b[0;32m----> 3\u001b[0m     \u001b[43mtest\u001b[49m\u001b[38;5;241;43m.\u001b[39;49m\u001b[43mrun\u001b[49m\u001b[43m(\u001b[49m\u001b[43m)\u001b[49m\n",
      "File \u001b[0;32m~/GSG/GSG-3.0/myenv/lib/python3.10/site-packages/backtesting/backtesting.py:1139\u001b[0m, in \u001b[0;36mBacktest.run\u001b[0;34m(self, **kwargs)\u001b[0m\n\u001b[1;32m   1136\u001b[0m broker: _Broker \u001b[38;5;241m=\u001b[39m \u001b[38;5;28mself\u001b[39m\u001b[38;5;241m.\u001b[39m_broker(data\u001b[38;5;241m=\u001b[39mdata)\n\u001b[1;32m   1137\u001b[0m strategy: Strategy \u001b[38;5;241m=\u001b[39m \u001b[38;5;28mself\u001b[39m\u001b[38;5;241m.\u001b[39m_strategy(broker, data, kwargs)\n\u001b[0;32m-> 1139\u001b[0m \u001b[43mstrategy\u001b[49m\u001b[38;5;241;43m.\u001b[39;49m\u001b[43minit\u001b[49m\u001b[43m(\u001b[49m\u001b[43m)\u001b[49m\n\u001b[1;32m   1140\u001b[0m data\u001b[38;5;241m.\u001b[39m_update()  \u001b[38;5;66;03m# Strategy.init might have changed/added to data.df\u001b[39;00m\n\u001b[1;32m   1142\u001b[0m \u001b[38;5;66;03m# Indicators used in Strategy.next()\u001b[39;00m\n",
      "Cell \u001b[0;32mIn[144], line 5\u001b[0m, in \u001b[0;36mVWAPSTRAT.init\u001b[0;34m(self)\u001b[0m\n\u001b[1;32m      3\u001b[0m \u001b[38;5;28;01mdef\u001b[39;00m \u001b[38;5;21minit\u001b[39m(\u001b[38;5;28mself\u001b[39m):\n\u001b[1;32m      4\u001b[0m     \u001b[38;5;28mprint\u001b[39m(\u001b[38;5;28mself\u001b[39m\u001b[38;5;241m.\u001b[39mdata)\n\u001b[0;32m----> 5\u001b[0m     \u001b[38;5;28mself\u001b[39m\u001b[38;5;241m.\u001b[39mvwap \u001b[38;5;241m=\u001b[39m \u001b[43mVWAP\u001b[49m\u001b[43m(\u001b[49m\u001b[38;5;28;43mself\u001b[39;49m\u001b[38;5;241;43m.\u001b[39;49m\u001b[43mdata\u001b[49m\u001b[43m)\u001b[49m\n",
      "Cell \u001b[0;32mIn[84], line 4\u001b[0m, in \u001b[0;36mVWAP\u001b[0;34m(array)\u001b[0m\n\u001b[1;32m      2\u001b[0m \u001b[38;5;28msum\u001b[39m \u001b[38;5;241m=\u001b[39m \u001b[38;5;241m0\u001b[39m\n\u001b[1;32m      3\u001b[0m totalVolume \u001b[38;5;241m=\u001b[39m \u001b[38;5;241m0\u001b[39m\n\u001b[0;32m----> 4\u001b[0m \u001b[38;5;28;01mfor\u001b[39;00m element \u001b[38;5;129;01min\u001b[39;00m array: \n\u001b[1;32m      5\u001b[0m     volume \u001b[38;5;241m=\u001b[39m element[\u001b[38;5;241m5\u001b[39m]\n\u001b[1;32m      6\u001b[0m     totalVolume \u001b[38;5;241m+\u001b[39m\u001b[38;5;241m=\u001b[39m volume\n",
      "File \u001b[0;32m~/GSG/GSG-3.0/myenv/lib/python3.10/site-packages/backtesting/_util.py:119\u001b[0m, in \u001b[0;36m_Data.__getitem__\u001b[0;34m(self, item)\u001b[0m\n\u001b[1;32m    118\u001b[0m \u001b[38;5;28;01mdef\u001b[39;00m \u001b[38;5;21m__getitem__\u001b[39m(\u001b[38;5;28mself\u001b[39m, item):\n\u001b[0;32m--> 119\u001b[0m     \u001b[38;5;28;01mreturn\u001b[39;00m \u001b[38;5;28;43mself\u001b[39;49m\u001b[38;5;241;43m.\u001b[39;49m\u001b[43m__get_array\u001b[49m\u001b[43m(\u001b[49m\u001b[43mitem\u001b[49m\u001b[43m)\u001b[49m\n",
      "File \u001b[0;32m~/GSG/GSG-3.0/myenv/lib/python3.10/site-packages/backtesting/_util.py:163\u001b[0m, in \u001b[0;36m_Data.__get_array\u001b[0;34m(self, key)\u001b[0m\n\u001b[1;32m    161\u001b[0m arr \u001b[38;5;241m=\u001b[39m \u001b[38;5;28mself\u001b[39m\u001b[38;5;241m.\u001b[39m__cache\u001b[38;5;241m.\u001b[39mget(key)\n\u001b[1;32m    162\u001b[0m \u001b[38;5;28;01mif\u001b[39;00m arr \u001b[38;5;129;01mis\u001b[39;00m \u001b[38;5;28;01mNone\u001b[39;00m:\n\u001b[0;32m--> 163\u001b[0m     arr \u001b[38;5;241m=\u001b[39m \u001b[38;5;28mself\u001b[39m\u001b[38;5;241m.\u001b[39m__cache[key] \u001b[38;5;241m=\u001b[39m cast(_Array, \u001b[38;5;28;43mself\u001b[39;49m\u001b[38;5;241;43m.\u001b[39;49m\u001b[43m__arrays\u001b[49m\u001b[43m[\u001b[49m\u001b[43mkey\u001b[49m\u001b[43m]\u001b[49m[:\u001b[38;5;28mself\u001b[39m\u001b[38;5;241m.\u001b[39m__i])\n\u001b[1;32m    164\u001b[0m \u001b[38;5;28;01mreturn\u001b[39;00m arr\n",
      "\u001b[0;31mKeyError\u001b[0m: 0"
     ]
    }
   ],
   "source": [
    "cwd = os.getcwd()\n",
    "data = pd.read_csv(cwd + '/formatted_data/BTCUSDT/1m/1.1.2021-1.1.2022.csv')\n",
    "data['Date'] = pd.to_datetime(data['Date'])\n",
    "data.set_index('Date', inplace=True)\n",
    "run_backtest(data)"
   ]
  },
  {
   "cell_type": "code",
   "execution_count": null,
   "id": "c9513497-f2c9-4a25-8476-f6e9eb10116c",
   "metadata": {},
   "outputs": [],
   "source": []
  }
 ],
 "metadata": {
  "kernelspec": {
   "display_name": "myenv",
   "language": "python",
   "name": "myenv"
  },
  "language_info": {
   "codemirror_mode": {
    "name": "ipython",
    "version": 3
   },
   "file_extension": ".py",
   "mimetype": "text/x-python",
   "name": "python",
   "nbconvert_exporter": "python",
   "pygments_lexer": "ipython3",
   "version": "3.10.12"
  }
 },
 "nbformat": 4,
 "nbformat_minor": 5
}
